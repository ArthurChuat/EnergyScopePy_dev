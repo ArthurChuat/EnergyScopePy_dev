{
 "cells": [
  {
   "cell_type": "markdown",
   "source": [
    "# Development Sankey function"
   ],
   "metadata": {
    "collapsed": false
   },
   "id": "5f42227ba657337d"
  },
  {
   "cell_type": "code",
   "execution_count": 1,
   "id": "initial_id",
   "metadata": {
    "ExecuteTime": {
     "end_time": "2024-02-06T12:10:22.530567Z",
     "start_time": "2024-02-06T12:10:20.955332Z"
    }
   },
   "outputs": [
    {
     "name": "stderr",
     "output_type": "stream",
     "text": [
      "WARNING:root:The colored console output is failing (possibly because of ipython). Switching to monochromatic output\n",
      "20240206 13:10:22: ampl_lic is already running.\n",
      "\n",
      "AMPL network license manager version 20210929 (Darwin 10.8.0 x86_64).\n"
     ]
    },
    {
     "data": {
      "text/plain": "1536"
     },
     "execution_count": 1,
     "metadata": {},
     "output_type": "execute_result"
    }
   ],
   "source": [
    "import os\n",
    "from pathlib import Path\n",
    "import pandas as pd\n",
    "import energyscope as es\n",
    "from amplpy import AMPL\n",
    "import numpy as np\n",
    "import plotly.graph_objects as go\n",
    "from matplotlib import colors\n",
    "\n",
    "model_directory = os.getcwd()+\"/case_studies_initial/\"\n",
    "os.system('/Applications/ampl/ampl_lic start')"
   ]
  },
  {
   "cell_type": "code",
   "execution_count": 2,
   "outputs": [
    {
     "name": "stdout",
     "output_type": "stream",
     "text": [
      "Gurobi 10.0.2: Gurobi 10.0.2: optimal solution; objective 43941.28319\n",
      "45290 simplex iterations\n",
      "106 barrier iterations\n"
     ]
    }
   ],
   "source": [
    "# Solve AMPL model\n",
    "ampl = AMPL()\n",
    "ampl.set_option(\"solver\", 'gurobi')\n",
    "# Read the model and data files.\n",
    "ampl.read(os.path.join(model_directory, \"es_model.mod\"))\n",
    "ampl.read_data(os.path.join(model_directory, \"ESTD_data.dat\"))\n",
    "ampl.read_data(os.path.join(model_directory, \"ESTD_12TD.dat\"))\n",
    "ampl.solve()"
   ],
   "metadata": {
    "collapsed": false,
    "ExecuteTime": {
     "end_time": "2024-02-06T12:11:22.437710Z",
     "start_time": "2024-02-06T12:11:22.434888Z"
    }
   },
   "id": "1b57cd29c36fdb55"
  },
  {
   "cell_type": "code",
   "execution_count": 3,
   "outputs": [
    {
     "data": {
      "text/plain": "                      F.val\nAMMONIA_STORAGE    0.000000\nAMMONIA_TO_H2      0.000000\nATM_CCS            0.000000\nBATT_LI            0.000000\nBEV_BATT         175.560136\n...                     ...\nTS_DHN_DAILY       0.000000\nTS_DHN_SEASONAL  913.937618\nTS_HIGH_TEMP       1.834661\nWIND_OFFSHORE      6.000000\nWIND_ONSHORE      10.000000\n\n[112 rows x 1 columns]",
      "text/html": "<div>\n<style scoped>\n    .dataframe tbody tr th:only-of-type {\n        vertical-align: middle;\n    }\n\n    .dataframe tbody tr th {\n        vertical-align: top;\n    }\n\n    .dataframe thead th {\n        text-align: right;\n    }\n</style>\n<table border=\"1\" class=\"dataframe\">\n  <thead>\n    <tr style=\"text-align: right;\">\n      <th></th>\n      <th>F.val</th>\n    </tr>\n  </thead>\n  <tbody>\n    <tr>\n      <th>AMMONIA_STORAGE</th>\n      <td>0.000000</td>\n    </tr>\n    <tr>\n      <th>AMMONIA_TO_H2</th>\n      <td>0.000000</td>\n    </tr>\n    <tr>\n      <th>ATM_CCS</th>\n      <td>0.000000</td>\n    </tr>\n    <tr>\n      <th>BATT_LI</th>\n      <td>0.000000</td>\n    </tr>\n    <tr>\n      <th>BEV_BATT</th>\n      <td>175.560136</td>\n    </tr>\n    <tr>\n      <th>...</th>\n      <td>...</td>\n    </tr>\n    <tr>\n      <th>TS_DHN_DAILY</th>\n      <td>0.000000</td>\n    </tr>\n    <tr>\n      <th>TS_DHN_SEASONAL</th>\n      <td>913.937618</td>\n    </tr>\n    <tr>\n      <th>TS_HIGH_TEMP</th>\n      <td>1.834661</td>\n    </tr>\n    <tr>\n      <th>WIND_OFFSHORE</th>\n      <td>6.000000</td>\n    </tr>\n    <tr>\n      <th>WIND_ONSHORE</th>\n      <td>10.000000</td>\n    </tr>\n  </tbody>\n</table>\n<p>112 rows × 1 columns</p>\n</div>"
     },
     "execution_count": 3,
     "metadata": {},
     "output_type": "execute_result"
    }
   ],
   "source": [
    "ampl.get_variable('F').get_values().to_pandas()"
   ],
   "metadata": {
    "collapsed": false,
    "ExecuteTime": {
     "end_time": "2024-02-06T12:11:22.461234Z",
     "start_time": "2024-02-06T12:11:22.445902Z"
    }
   },
   "id": "e45b9c9e32b20181"
  },
  {
   "cell_type": "code",
   "execution_count": 9,
   "id": "52fc56f5-fdc0-4012-8bc5-17bd57a0d3d7",
   "metadata": {
    "ExecuteTime": {
     "end_time": "2024-02-06T12:12:35.906867Z",
     "start_time": "2024-02-06T12:12:35.844405Z"
    }
   },
   "outputs": [
    {
     "name": "stdout",
     "output_type": "stream",
     "text": [
      "crash\n"
     ]
    },
    {
     "ename": "KeyError",
     "evalue": "'tech_name'",
     "output_type": "error",
     "traceback": [
      "\u001B[0;31m---------------------------------------------------------------------------\u001B[0m",
      "\u001B[0;31mKeyError\u001B[0m                                  Traceback (most recent call last)",
      "Cell \u001B[0;32mIn[9], line 11\u001B[0m\n\u001B[1;32m      8\u001B[0m list_storage \u001B[38;5;241m=\u001B[39m ampl\u001B[38;5;241m.\u001B[39mget_set(\u001B[38;5;124m\"\u001B[39m\u001B[38;5;124mSTORAGE_TECH\u001B[39m\u001B[38;5;124m\"\u001B[39m)\u001B[38;5;241m.\u001B[39mget_values()\u001B[38;5;241m.\u001B[39mto_pandas()\u001B[38;5;241m.\u001B[39mindex\u001B[38;5;241m.\u001B[39mvalues\n\u001B[1;32m      9\u001B[0m \u001B[38;5;28mprint\u001B[39m(\u001B[38;5;124m\"\u001B[39m\u001B[38;5;124mcrash\u001B[39m\u001B[38;5;124m\"\u001B[39m)\n\u001B[0;32m---> 11\u001B[0m df_flow \u001B[38;5;241m=\u001B[39m \u001B[43mF_t\u001B[49m\u001B[38;5;241;43m.\u001B[39;49m\u001B[43mgroupby\u001B[49m\u001B[43m(\u001B[49m\u001B[43m[\u001B[49m\u001B[38;5;124;43m'\u001B[39;49m\u001B[38;5;124;43mtech_name\u001B[39;49m\u001B[38;5;124;43m'\u001B[39;49m\u001B[43m,\u001B[49m\u001B[38;5;124;43m'\u001B[39;49m\u001B[38;5;124;43mtd\u001B[39;49m\u001B[38;5;124;43m'\u001B[39;49m\u001B[43m]\u001B[49m\u001B[43m)\u001B[49m\u001B[38;5;241m.\u001B[39msum()\u001B[38;5;241m.\u001B[39mdrop([\u001B[38;5;124m'\u001B[39m\u001B[38;5;124mh\u001B[39m\u001B[38;5;124m'\u001B[39m],axis\u001B[38;5;241m=\u001B[39m\u001B[38;5;241m1\u001B[39m)\u001B[38;5;241m.\u001B[39mjoin(HOUR_OF_PERIOD\u001B[38;5;241m.\u001B[39mgroupby(\u001B[38;5;124m'\u001B[39m\u001B[38;5;124mtd\u001B[39m\u001B[38;5;124m'\u001B[39m)\u001B[38;5;241m.\u001B[39mcount()\u001B[38;5;241m/\u001B[39m\u001B[38;5;241m24\u001B[39m,on \u001B[38;5;241m=\u001B[39m\u001B[38;5;124m'\u001B[39m\u001B[38;5;124mtd\u001B[39m\u001B[38;5;124m'\u001B[39m)  \u001B[38;5;66;03m# Sum hourly profile for each TD + Merge occurence of TD per year\u001B[39;00m\n\u001B[1;32m     12\u001B[0m df_flow \u001B[38;5;241m=\u001B[39m df_flow[df_flow[\u001B[38;5;124m'\u001B[39m\u001B[38;5;124mvalue\u001B[39m\u001B[38;5;124m'\u001B[39m]\u001B[38;5;241m!=\u001B[39m\u001B[38;5;241m0\u001B[39m]  \u001B[38;5;66;03m# Cleaning\u001B[39;00m\n\u001B[1;32m     13\u001B[0m df_flow[\u001B[38;5;124m'\u001B[39m\u001B[38;5;124mvalue\u001B[39m\u001B[38;5;124m'\u001B[39m] \u001B[38;5;241m=\u001B[39m df_flow[\u001B[38;5;124m'\u001B[39m\u001B[38;5;124mvalue\u001B[39m\u001B[38;5;124m'\u001B[39m] \u001B[38;5;241m*\u001B[39m df_flow[\u001B[38;5;124m'\u001B[39m\u001B[38;5;124mh\u001B[39m\u001B[38;5;124m'\u001B[39m] \u001B[38;5;66;03m# kW * h per td \u001B[39;00m\n",
      "File \u001B[0;32m~/miniconda3/lib/python3.11/site-packages/pandas/core/frame.py:8392\u001B[0m, in \u001B[0;36mDataFrame.groupby\u001B[0;34m(self, by, axis, level, as_index, sort, group_keys, squeeze, observed, dropna)\u001B[0m\n\u001B[1;32m   8389\u001B[0m     \u001B[38;5;28;01mraise\u001B[39;00m \u001B[38;5;167;01mTypeError\u001B[39;00m(\u001B[38;5;124m\"\u001B[39m\u001B[38;5;124mYou have to supply one of \u001B[39m\u001B[38;5;124m'\u001B[39m\u001B[38;5;124mby\u001B[39m\u001B[38;5;124m'\u001B[39m\u001B[38;5;124m and \u001B[39m\u001B[38;5;124m'\u001B[39m\u001B[38;5;124mlevel\u001B[39m\u001B[38;5;124m'\u001B[39m\u001B[38;5;124m\"\u001B[39m)\n\u001B[1;32m   8390\u001B[0m axis \u001B[38;5;241m=\u001B[39m \u001B[38;5;28mself\u001B[39m\u001B[38;5;241m.\u001B[39m_get_axis_number(axis)\n\u001B[0;32m-> 8392\u001B[0m \u001B[38;5;28;01mreturn\u001B[39;00m \u001B[43mDataFrameGroupBy\u001B[49m\u001B[43m(\u001B[49m\n\u001B[1;32m   8393\u001B[0m \u001B[43m    \u001B[49m\u001B[43mobj\u001B[49m\u001B[38;5;241;43m=\u001B[39;49m\u001B[38;5;28;43mself\u001B[39;49m\u001B[43m,\u001B[49m\n\u001B[1;32m   8394\u001B[0m \u001B[43m    \u001B[49m\u001B[43mkeys\u001B[49m\u001B[38;5;241;43m=\u001B[39;49m\u001B[43mby\u001B[49m\u001B[43m,\u001B[49m\n\u001B[1;32m   8395\u001B[0m \u001B[43m    \u001B[49m\u001B[43maxis\u001B[49m\u001B[38;5;241;43m=\u001B[39;49m\u001B[43maxis\u001B[49m\u001B[43m,\u001B[49m\n\u001B[1;32m   8396\u001B[0m \u001B[43m    \u001B[49m\u001B[43mlevel\u001B[49m\u001B[38;5;241;43m=\u001B[39;49m\u001B[43mlevel\u001B[49m\u001B[43m,\u001B[49m\n\u001B[1;32m   8397\u001B[0m \u001B[43m    \u001B[49m\u001B[43mas_index\u001B[49m\u001B[38;5;241;43m=\u001B[39;49m\u001B[43mas_index\u001B[49m\u001B[43m,\u001B[49m\n\u001B[1;32m   8398\u001B[0m \u001B[43m    \u001B[49m\u001B[43msort\u001B[49m\u001B[38;5;241;43m=\u001B[39;49m\u001B[43msort\u001B[49m\u001B[43m,\u001B[49m\n\u001B[1;32m   8399\u001B[0m \u001B[43m    \u001B[49m\u001B[43mgroup_keys\u001B[49m\u001B[38;5;241;43m=\u001B[39;49m\u001B[43mgroup_keys\u001B[49m\u001B[43m,\u001B[49m\n\u001B[1;32m   8400\u001B[0m \u001B[43m    \u001B[49m\u001B[43msqueeze\u001B[49m\u001B[38;5;241;43m=\u001B[39;49m\u001B[43msqueeze\u001B[49m\u001B[43m,\u001B[49m\n\u001B[1;32m   8401\u001B[0m \u001B[43m    \u001B[49m\u001B[43mobserved\u001B[49m\u001B[38;5;241;43m=\u001B[39;49m\u001B[43mobserved\u001B[49m\u001B[43m,\u001B[49m\n\u001B[1;32m   8402\u001B[0m \u001B[43m    \u001B[49m\u001B[43mdropna\u001B[49m\u001B[38;5;241;43m=\u001B[39;49m\u001B[43mdropna\u001B[49m\u001B[43m,\u001B[49m\n\u001B[1;32m   8403\u001B[0m \u001B[43m\u001B[49m\u001B[43m)\u001B[49m\n",
      "File \u001B[0;32m~/miniconda3/lib/python3.11/site-packages/pandas/core/groupby/groupby.py:959\u001B[0m, in \u001B[0;36mGroupBy.__init__\u001B[0;34m(self, obj, keys, axis, level, grouper, exclusions, selection, as_index, sort, group_keys, squeeze, observed, mutated, dropna)\u001B[0m\n\u001B[1;32m    956\u001B[0m \u001B[38;5;28;01mif\u001B[39;00m grouper \u001B[38;5;129;01mis\u001B[39;00m \u001B[38;5;28;01mNone\u001B[39;00m:\n\u001B[1;32m    957\u001B[0m     \u001B[38;5;28;01mfrom\u001B[39;00m \u001B[38;5;21;01mpandas\u001B[39;00m\u001B[38;5;21;01m.\u001B[39;00m\u001B[38;5;21;01mcore\u001B[39;00m\u001B[38;5;21;01m.\u001B[39;00m\u001B[38;5;21;01mgroupby\u001B[39;00m\u001B[38;5;21;01m.\u001B[39;00m\u001B[38;5;21;01mgrouper\u001B[39;00m \u001B[38;5;28;01mimport\u001B[39;00m get_grouper\n\u001B[0;32m--> 959\u001B[0m     grouper, exclusions, obj \u001B[38;5;241m=\u001B[39m \u001B[43mget_grouper\u001B[49m\u001B[43m(\u001B[49m\n\u001B[1;32m    960\u001B[0m \u001B[43m        \u001B[49m\u001B[43mobj\u001B[49m\u001B[43m,\u001B[49m\n\u001B[1;32m    961\u001B[0m \u001B[43m        \u001B[49m\u001B[43mkeys\u001B[49m\u001B[43m,\u001B[49m\n\u001B[1;32m    962\u001B[0m \u001B[43m        \u001B[49m\u001B[43maxis\u001B[49m\u001B[38;5;241;43m=\u001B[39;49m\u001B[43maxis\u001B[49m\u001B[43m,\u001B[49m\n\u001B[1;32m    963\u001B[0m \u001B[43m        \u001B[49m\u001B[43mlevel\u001B[49m\u001B[38;5;241;43m=\u001B[39;49m\u001B[43mlevel\u001B[49m\u001B[43m,\u001B[49m\n\u001B[1;32m    964\u001B[0m \u001B[43m        \u001B[49m\u001B[43msort\u001B[49m\u001B[38;5;241;43m=\u001B[39;49m\u001B[43msort\u001B[49m\u001B[43m,\u001B[49m\n\u001B[1;32m    965\u001B[0m \u001B[43m        \u001B[49m\u001B[43mobserved\u001B[49m\u001B[38;5;241;43m=\u001B[39;49m\u001B[43mobserved\u001B[49m\u001B[43m,\u001B[49m\n\u001B[1;32m    966\u001B[0m \u001B[43m        \u001B[49m\u001B[43mmutated\u001B[49m\u001B[38;5;241;43m=\u001B[39;49m\u001B[38;5;28;43mself\u001B[39;49m\u001B[38;5;241;43m.\u001B[39;49m\u001B[43mmutated\u001B[49m\u001B[43m,\u001B[49m\n\u001B[1;32m    967\u001B[0m \u001B[43m        \u001B[49m\u001B[43mdropna\u001B[49m\u001B[38;5;241;43m=\u001B[39;49m\u001B[38;5;28;43mself\u001B[39;49m\u001B[38;5;241;43m.\u001B[39;49m\u001B[43mdropna\u001B[49m\u001B[43m,\u001B[49m\n\u001B[1;32m    968\u001B[0m \u001B[43m    \u001B[49m\u001B[43m)\u001B[49m\n\u001B[1;32m    970\u001B[0m \u001B[38;5;28mself\u001B[39m\u001B[38;5;241m.\u001B[39mobj \u001B[38;5;241m=\u001B[39m obj\n\u001B[1;32m    971\u001B[0m \u001B[38;5;28mself\u001B[39m\u001B[38;5;241m.\u001B[39maxis \u001B[38;5;241m=\u001B[39m obj\u001B[38;5;241m.\u001B[39m_get_axis_number(axis)\n",
      "File \u001B[0;32m~/miniconda3/lib/python3.11/site-packages/pandas/core/groupby/grouper.py:889\u001B[0m, in \u001B[0;36mget_grouper\u001B[0;34m(obj, key, axis, level, sort, observed, mutated, validate, dropna)\u001B[0m\n\u001B[1;32m    887\u001B[0m         in_axis, level, gpr \u001B[38;5;241m=\u001B[39m \u001B[38;5;28;01mFalse\u001B[39;00m, gpr, \u001B[38;5;28;01mNone\u001B[39;00m\n\u001B[1;32m    888\u001B[0m     \u001B[38;5;28;01melse\u001B[39;00m:\n\u001B[0;32m--> 889\u001B[0m         \u001B[38;5;28;01mraise\u001B[39;00m \u001B[38;5;167;01mKeyError\u001B[39;00m(gpr)\n\u001B[1;32m    890\u001B[0m \u001B[38;5;28;01melif\u001B[39;00m \u001B[38;5;28misinstance\u001B[39m(gpr, Grouper) \u001B[38;5;129;01mand\u001B[39;00m gpr\u001B[38;5;241m.\u001B[39mkey \u001B[38;5;129;01mis\u001B[39;00m \u001B[38;5;129;01mnot\u001B[39;00m \u001B[38;5;28;01mNone\u001B[39;00m:\n\u001B[1;32m    891\u001B[0m     \u001B[38;5;66;03m# Add key to exclusions\u001B[39;00m\n\u001B[1;32m    892\u001B[0m     exclusions\u001B[38;5;241m.\u001B[39madd(gpr\u001B[38;5;241m.\u001B[39mkey)\n",
      "\u001B[0;31mKeyError\u001B[0m: 'tech_name'"
     ]
    }
   ],
   "source": [
    "# TODO Color coding \n",
    "# TODO Storage technologies\n",
    "\n",
    "F_t = ampl.get_variable(\"F_t\").get_values().to_pandas().reset_index().rename(columns={\"index0\":\"tech_name\", \"index1\":\"h\", \"index2\":\"td\", \"F_t.val\":\"value\"})\n",
    "lyrio = ampl.get_parameter(\"layers_in_out\").get_values().to_pandas().reset_index().rename(columns={\"index0\": \"tech_name\", \"index1\": \"flow_name\",\"layers_in_out\": \"value\"})\n",
    "HOUR_OF_PERIOD = pd.DataFrame(ampl.get_entity(\"T_H_TD\").get_values().to_list(), columns=['i','h','td']).set_index('i')\n",
    "MOB_list = sorted(['MOB_PRIVATE', 'MOB_AVIATION', 'MOB_PUBLIC', 'MOB_FREIGHT_RAIL', 'MOB_FREIGHT_ROAD'])\n",
    "list_storage = ampl.get_set(\"STORAGE_TECH\").get_values().to_pandas().index.values\n",
    "print(\"crash\")\n",
    "\n",
    "df_flow = F_t.groupby(['tech_name','td']).sum().drop(['h'],axis=1).join(HOUR_OF_PERIOD.groupby('td').count()/24,on ='td')  # Sum hourly profile for each TD + Merge occurence of TD per year\n",
    "df_flow = df_flow[df_flow['value']!=0]  # Cleaning\n",
    "df_flow['value'] = df_flow['value'] * df_flow['h'] # kW * h per td \n",
    "print(\"crash\")\n",
    "\n",
    "df_flow = df_flow.merge(lyrio.rename(columns={'value':'value_lyrio'}), on='tech_name') # Merge lyrio flow\n",
    "df_flow = df_flow[df_flow['value_lyrio']!=0]    # Cleaning\n",
    "df_flow['value'] = (df_flow['value_lyrio'] * df_flow['value']) # kW of demand and supply * h per td\n",
    "\n",
    "df_flow.drop(['h','value_lyrio'],axis=1,inplace=True)   # Cleaning\n",
    "\n",
    "df_flow.rename(columns={'tech_name':'target', 'flow_name':'source'}, inplace=True)  # Rename \n",
    "df_flow.loc[df_flow['value']>0,['target','source']] = df_flow.loc[df_flow['value']>0,['source','target']].to_numpy() # Transform negative flow as source\n",
    "df_flow['value'] = abs(df_flow['value'])    # Transform source flow to be positive\n",
    "\n",
    "df_flow = df_flow.groupby(['target','source']).sum().reset_index() # Aggregate to yearly value\n",
    "df_flow.loc [df_flow['target']==df_flow['source'],'source']= 'IMP_' + df_flow.loc [df_flow['target']==df_flow['source'],'source'].astype(str) # Transform name imported resources\n",
    "df_flow = df_flow[~df_flow.loc[:,'source'].str.startswith('IMP_RES').values]# Remove node with IMP_RES\n",
    "\n",
    "#Drop CO2 flow \n",
    "df_flow = df_flow[~df_flow['source'].str.contains(\"CO2_\")]\n",
    "df_flow = df_flow[~df_flow['target'].str.contains(\"CO2_\")]\n",
    "\n",
    "df_flow.sort_values('source',inplace=True)\n",
    "#Transform pkm & tkm into GWh\n",
    "df_flow.loc[df_flow[df_flow['target'].isin(MOB_list)].index,'value'] = df_flow.loc[df_flow['target'].isin(df_flow.loc[df_flow['target'].isin(MOB_list),'source']),:].sort_values('target')['value'].values\n",
    "#Transform kt into GWh\n",
    "df_flow.loc[df_flow['target']=='HVC','value'] = df_flow.loc[df_flow['target'].isin(df_flow.loc[df_flow['target']=='HVC','source']),:].groupby('target').sum().values\n",
    "\n",
    "df_flow = df_flow[df_flow['value']>500] # Remove small flows\n",
    "\n",
    "node = np.unique(np.concatenate((df_flow['source'].unique(),df_flow['target'].unique())))   # Get the list of nodes\n",
    "df_sankey = df_flow.replace(node,range(len(node)))  # Rename techno into numbers\n",
    "\n",
    "#techno_color = pd.read_excel(os.getcwd()+'/ColorSankey.xlsx', index_col=False)\n",
    "#SankeyColor = techno_color['color'].apply(lambda x: change_opacity(x,0.2))\n",
    "\n",
    "fig = go.Figure(data=[go.Sankey(\n",
    "    valueformat = \".0f\",\n",
    "    valuesuffix = \"\",#\"TWh\",\n",
    "    # Define nodes\n",
    "    node = dict(\n",
    "      pad = 15,\n",
    "      thickness = 15,\n",
    "      line = dict(color = \"black\", width = 0.5),\n",
    "      label =  node,\n",
    "      color = \"cornflowerblue\"\n",
    "    ),\n",
    "    # Add links\n",
    "    link = dict(\n",
    "      source =  df_sankey['source'],\n",
    "      target =  df_sankey['target'],\n",
    "      value =  df_sankey['value'],\n",
    "      label =  df_sankey['target'],\n",
    "      #color =  \"#000ecd\"\n",
    "))])\n",
    "\n",
    "fig.update_layout(title_text=\"Sankey\", font_size=10, font_color=\"black\", paper_bgcolor=\"white\")\n",
    "fig.write_html(os.getcwd()+\"/Sankey.html\")\n",
    "fig.show()"
   ]
  },
  {
   "cell_type": "code",
   "execution_count": null,
   "outputs": [],
   "source": [],
   "metadata": {
    "collapsed": false,
    "ExecuteTime": {
     "end_time": "2024-02-06T12:11:22.981073Z",
     "start_time": "2024-02-06T12:11:22.978454Z"
    }
   },
   "id": "227e09c0700601d4"
  }
 ],
 "metadata": {
  "kernelspec": {
   "display_name": "Python 3 (ipykernel)",
   "language": "python",
   "name": "python3"
  },
  "language_info": {
   "codemirror_mode": {
    "name": "ipython",
    "version": 3
   },
   "file_extension": ".py",
   "mimetype": "text/x-python",
   "name": "python",
   "nbconvert_exporter": "python",
   "pygments_lexer": "ipython3",
   "version": "3.11.5"
  }
 },
 "nbformat": 4,
 "nbformat_minor": 5
}
