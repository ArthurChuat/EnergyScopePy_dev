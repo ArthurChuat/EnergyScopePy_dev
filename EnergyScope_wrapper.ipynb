{
 "cells": [
  {
   "cell_type": "markdown",
   "id": "c36a77cdd0249eb0",
   "metadata": {
    "collapsed": false
   },
   "source": [
    "# INITIAL MODEL "
   ]
  },
  {
   "cell_type": "code",
   "execution_count": 206,
   "id": "58b14d6e612308",
   "metadata": {
    "collapsed": false,
    "ExecuteTime": {
     "end_time": "2024-01-12T07:30:58.975339Z",
     "start_time": "2024-01-12T07:29:41.237422Z"
    }
   },
   "outputs": [
    {
     "name": "stderr",
     "output_type": "stream",
     "text": [
      "20240112  8:29:41: ampl_lic is already running.\n",
      "\n",
      "AMPL network license manager version 20210929 (Darwin 10.8.0 x86_64).\n"
     ]
    },
    {
     "ename": "RuntimeError",
     "evalue": "SWIG director method error. Error detected when calling 'OutputHandler.output'",
     "output_type": "error",
     "traceback": [
      "\u001B[0;31m---------------------------------------------------------------------------\u001B[0m",
      "\u001B[0;31mRuntimeError\u001B[0m                              Traceback (most recent call last)",
      "Cell \u001B[0;32mIn[206], line 15\u001B[0m\n\u001B[1;32m     13\u001B[0m ampl\u001B[38;5;241m.\u001B[39mread_data(os\u001B[38;5;241m.\u001B[39mpath\u001B[38;5;241m.\u001B[39mjoin(model_directory, \u001B[38;5;124m\"\u001B[39m\u001B[38;5;124mESTD_data.dat\u001B[39m\u001B[38;5;124m\"\u001B[39m))\n\u001B[1;32m     14\u001B[0m ampl\u001B[38;5;241m.\u001B[39mread_data(os\u001B[38;5;241m.\u001B[39mpath\u001B[38;5;241m.\u001B[39mjoin(model_directory, \u001B[38;5;124m\"\u001B[39m\u001B[38;5;124mESTD_12TD.dat\u001B[39m\u001B[38;5;124m\"\u001B[39m))\n\u001B[0;32m---> 15\u001B[0m \u001B[43mampl\u001B[49m\u001B[38;5;241;43m.\u001B[39;49m\u001B[43msolve\u001B[49m\u001B[43m(\u001B[49m\u001B[43m)\u001B[49m\n",
      "File \u001B[0;32m/Library/Frameworks/Python.framework/Versions/3.11/lib/python3.11/site-packages/amplpy/ampl.py:327\u001B[0m, in \u001B[0;36mAMPL.solve\u001B[0;34m(self, problem, verbose)\u001B[0m\n\u001B[1;32m    325\u001B[0m     \u001B[38;5;28mself\u001B[39m\u001B[38;5;241m.\u001B[39meval(\u001B[38;5;124mf\u001B[39m\u001B[38;5;124m\"\u001B[39m\u001B[38;5;124msolve \u001B[39m\u001B[38;5;132;01m{\u001B[39;00mproblem\u001B[38;5;132;01m}\u001B[39;00m\u001B[38;5;124m;\u001B[39m\u001B[38;5;124m\"\u001B[39m)\n\u001B[1;32m    326\u001B[0m \u001B[38;5;28;01melse\u001B[39;00m:\n\u001B[0;32m--> 327\u001B[0m     \u001B[38;5;28;43mself\u001B[39;49m\u001B[38;5;241;43m.\u001B[39;49m\u001B[43m_impl\u001B[49m\u001B[38;5;241;43m.\u001B[39;49m\u001B[43msolve\u001B[49m\u001B[43m(\u001B[49m\u001B[43m)\u001B[49m\n",
      "\u001B[0;31mRuntimeError\u001B[0m: SWIG director method error. Error detected when calling 'OutputHandler.output'"
     ]
    }
   ],
   "source": [
    "import os\n",
    "from pathlib import Path\n",
    "import pandas as pd\n",
    "import energyscope as es\n",
    "from amplpy import AMPL\n",
    "from energyscope.postprocessing.draw_sankey.Sankey_Louis import Sankey_plot\n",
    "model_directory = os.getcwd()+\"/case_studies_initial/\"\n",
    "os.system('/Applications/ampl/ampl_lic start')\n",
    "ampl = AMPL()\n",
    "ampl.set_option(\"solver\", 'gurobi')\n",
    "# Read the model and data files.\n",
    "ampl.read(os.path.join(model_directory, \"es_model.mod\"))\n",
    "ampl.read_data(os.path.join(model_directory, \"ESTD_data.dat\"))\n",
    "ampl.read_data(os.path.join(model_directory, \"ESTD_12TD.dat\"))\n",
    "ampl.solve()"
   ]
  },
  {
   "cell_type": "raw",
   "id": "44f7673a95eee68f",
   "metadata": {
    "collapsed": false
   },
   "source": [
    "totalcost = ampl.get_variable(\"TotalCost\").get_values().to_pandas()\n",
    "print(totalcost)\n",
    "totalgwp = ampl.get_variable(\"TotalGWP\").get_values().to_pandas()\n",
    "print(totalgwp)\n",
    "df_ini = ampl.get_variable(\"F\").get_values().to_pandas()\n",
    "df_ini[df_ini!=0].dropna().plot.bar()"
   ]
  },
  {
   "cell_type": "markdown",
   "id": "11a34c150717415e",
   "metadata": {
    "collapsed": false
   },
   "source": [
    "# INFRASTRUCTURE"
   ]
  },
  {
   "cell_type": "code",
   "execution_count": null,
   "id": "827c6aa4ce6bb8ed",
   "metadata": {
    "collapsed": false,
    "ExecuteTime": {
     "start_time": "2024-01-12T07:30:58.974385Z"
    }
   },
   "outputs": [],
   "source": [
    "model_directory = os.getcwd()+\"/case_studies/Infrastructure/\"\n",
    "\n",
    "ampl = AMPL()\n",
    "ampl.set_option(\"solver\", 'gurobi')\n",
    "# Read the model and data files.\n",
    "ampl.read(os.path.join(model_directory, \"es_model.mod\"))\n",
    "ampl.read_data(os.path.join(model_directory, \"ESTD_data.dat\"))\n",
    "ampl.read_data(os.path.join(model_directory, \"ESTD_12TD.dat\"))\n",
    "ampl.solve()\n",
    "totalcost = ampl.get_variable(\"TotalCost\").get_values().to_pandas()\n",
    "print(totalcost)\n",
    "totalgwp = ampl.get_variable(\"TotalGWP\").get_values().to_pandas()\n",
    "print(totalgwp)"
   ]
  },
  {
   "cell_type": "code",
   "execution_count": null,
   "id": "9cb0ef5436d1c38",
   "metadata": {
    "collapsed": false,
    "ExecuteTime": {
     "end_time": "2024-01-12T07:30:58.977260Z",
     "start_time": "2024-01-12T07:30:58.977158Z"
    }
   },
   "outputs": [],
   "source": [
    "data = ampl.get_parameter('layers_in_out').get_values().toPandas()\n",
    "data"
   ]
  },
  {
   "cell_type": "code",
   "execution_count": null,
   "id": "fbe1a92621083c63",
   "metadata": {
    "collapsed": false,
    "ExecuteTime": {
     "start_time": "2024-01-12T07:30:58.977489Z"
    }
   },
   "outputs": [],
   "source": [
    "df_infra = ampl.get_variable(\"F\").get_values().to_pandas()\n",
    "df_infra[df_infra!=0].dropna().plot.bar()"
   ]
  },
  {
   "cell_type": "code",
   "execution_count": null,
   "id": "a57ce0421964184b",
   "metadata": {
    "collapsed": false,
    "ExecuteTime": {
     "start_time": "2024-01-12T07:30:58.978909Z"
    }
   },
   "outputs": [],
   "source": [
    "df_infra[df_infra!=0].dropna()"
   ]
  },
  {
   "cell_type": "code",
   "execution_count": null,
   "id": "fe0bce5ba117d1e9",
   "metadata": {
    "collapsed": false,
    "ExecuteTime": {
     "start_time": "2024-01-12T07:30:58.979770Z"
    }
   },
   "outputs": [],
   "source": [
    "df_infra"
   ]
  },
  {
   "cell_type": "markdown",
   "id": "f746a643e9d6a3f6",
   "metadata": {
    "collapsed": false
   },
   "source": [
    "## Comparison"
   ]
  },
  {
   "cell_type": "code",
   "execution_count": null,
   "id": "a310199a68b445d1",
   "metadata": {
    "collapsed": false,
    "ExecuteTime": {
     "start_time": "2024-01-12T07:30:58.980914Z"
    }
   },
   "outputs": [],
   "source": [
    "df_diff = df_ini-df_infra\n",
    "print(df_diff)"
   ]
  },
  {
   "cell_type": "code",
   "execution_count": null,
   "id": "119d949c235c2a06",
   "metadata": {
    "collapsed": false,
    "ExecuteTime": {
     "start_time": "2024-01-12T07:30:58.981783Z"
    }
   },
   "outputs": [],
   "source": [
    "df_diff[df_diff>1e-1].dropna().plot.bar()"
   ]
  }
 ],
 "metadata": {
  "kernelspec": {
   "display_name": "Python 3 (ipykernel)",
   "language": "python",
   "name": "python3"
  },
  "language_info": {
   "codemirror_mode": {
    "name": "ipython",
    "version": 3
   },
   "file_extension": ".py",
   "mimetype": "text/x-python",
   "name": "python",
   "nbconvert_exporter": "python",
   "pygments_lexer": "ipython3",
   "version": "3.11.5"
  }
 },
 "nbformat": 4,
 "nbformat_minor": 5
}
