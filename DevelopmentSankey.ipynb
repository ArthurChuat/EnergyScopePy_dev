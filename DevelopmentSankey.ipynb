{
 "cells": [
  {
   "cell_type": "markdown",
   "source": [
    "# Development Sankey function"
   ],
   "metadata": {
    "collapsed": false
   },
   "id": "5f42227ba657337d"
  },
  {
   "cell_type": "code",
   "execution_count": 165,
   "id": "initial_id",
   "metadata": {
    "ExecuteTime": {
     "end_time": "2024-02-06T13:53:07.368773Z",
     "start_time": "2024-02-06T13:53:07.236528Z"
    }
   },
   "outputs": [
    {
     "name": "stderr",
     "output_type": "stream",
     "text": [
      "20240206 14:53:07: ampl_lic is already running.\n",
      "\n",
      "AMPL network license manager version 20210929 (Darwin 10.8.0 x86_64).\n"
     ]
    }
   ],
   "source": [
    "import os\n",
    "from pathlib import Path\n",
    "import pandas as pd\n",
    "import energyscope as es\n",
    "from amplpy import AMPL\n",
    "import numpy as np\n",
    "import plotly.graph_objects as go\n",
    "from matplotlib import colors\n",
    "\n",
    "model_directory = os.getcwd()+\"/case_studies_initial/\"\n",
    "os.system('/Applications/ampl/ampl_lic start')\n",
    "\n",
    "def hexToRGB(hex, alpha):\n",
    "    hex = hex.lstrip('#')\n",
    "    r = int(hex[0:2], 16)\n",
    "    g = int(hex[2:4], 16)\n",
    "    b = int(hex[4:6], 16)\n",
    "\n",
    "    if (alpha): \n",
    "        return \"rgba(%d, %d, %d, %.2f)\" % (r,g,b,alpha)\n",
    "    else:\n",
    "        return \"rgba(%d, %d, %d)\" % (r,g,b)"
   ]
  },
  {
   "cell_type": "code",
   "execution_count": 162,
   "outputs": [
    {
     "name": "stdout",
     "output_type": "stream",
     "text": [
      "Gurobi 10.0.2: Gurobi 10.0.2: optimal solution; objective 43941.28319\n",
      "45290 simplex iterations\n",
      "106 barrier iterations\n"
     ]
    }
   ],
   "source": [
    "# Solve AMPL model\n",
    "ampl = AMPL()\n",
    "ampl.set_option(\"solver\", 'gurobi')\n",
    "# Read the model and data files.\n",
    "ampl.read(os.path.join(model_directory, \"es_model.mod\"))\n",
    "ampl.read_data(os.path.join(model_directory, \"ESTD_data.dat\"))\n",
    "ampl.read_data(os.path.join(model_directory, \"ESTD_12TD.dat\"))\n",
    "ampl.solve()"
   ],
   "metadata": {
    "collapsed": false,
    "ExecuteTime": {
     "end_time": "2024-02-06T13:52:21.696200Z",
     "start_time": "2024-02-06T13:51:18.330381Z"
    }
   },
   "id": "1b57cd29c36fdb55"
  },
  {
   "cell_type": "code",
   "execution_count": 163,
   "outputs": [
    {
     "data": {
      "text/plain": "                      F.val\nAMMONIA_STORAGE    0.000000\nAMMONIA_TO_H2      0.000000\nATM_CCS            0.000000\nBATT_LI            0.000000\nBEV_BATT         175.560136\n...                     ...\nTS_DHN_DAILY       0.000000\nTS_DHN_SEASONAL  913.937618\nTS_HIGH_TEMP       1.834661\nWIND_OFFSHORE      6.000000\nWIND_ONSHORE      10.000000\n\n[112 rows x 1 columns]",
      "text/html": "<div>\n<style scoped>\n    .dataframe tbody tr th:only-of-type {\n        vertical-align: middle;\n    }\n\n    .dataframe tbody tr th {\n        vertical-align: top;\n    }\n\n    .dataframe thead th {\n        text-align: right;\n    }\n</style>\n<table border=\"1\" class=\"dataframe\">\n  <thead>\n    <tr style=\"text-align: right;\">\n      <th></th>\n      <th>F.val</th>\n    </tr>\n  </thead>\n  <tbody>\n    <tr>\n      <th>AMMONIA_STORAGE</th>\n      <td>0.000000</td>\n    </tr>\n    <tr>\n      <th>AMMONIA_TO_H2</th>\n      <td>0.000000</td>\n    </tr>\n    <tr>\n      <th>ATM_CCS</th>\n      <td>0.000000</td>\n    </tr>\n    <tr>\n      <th>BATT_LI</th>\n      <td>0.000000</td>\n    </tr>\n    <tr>\n      <th>BEV_BATT</th>\n      <td>175.560136</td>\n    </tr>\n    <tr>\n      <th>...</th>\n      <td>...</td>\n    </tr>\n    <tr>\n      <th>TS_DHN_DAILY</th>\n      <td>0.000000</td>\n    </tr>\n    <tr>\n      <th>TS_DHN_SEASONAL</th>\n      <td>913.937618</td>\n    </tr>\n    <tr>\n      <th>TS_HIGH_TEMP</th>\n      <td>1.834661</td>\n    </tr>\n    <tr>\n      <th>WIND_OFFSHORE</th>\n      <td>6.000000</td>\n    </tr>\n    <tr>\n      <th>WIND_ONSHORE</th>\n      <td>10.000000</td>\n    </tr>\n  </tbody>\n</table>\n<p>112 rows × 1 columns</p>\n</div>"
     },
     "execution_count": 163,
     "metadata": {},
     "output_type": "execute_result"
    }
   ],
   "source": [
    "ampl.get_variable('F').get_values().to_pandas()"
   ],
   "metadata": {
    "collapsed": false,
    "ExecuteTime": {
     "end_time": "2024-02-06T13:52:21.710030Z",
     "start_time": "2024-02-06T13:52:21.705242Z"
    }
   },
   "id": "e45b9c9e32b20181"
  },
  {
   "cell_type": "code",
   "execution_count": 166,
   "id": "52fc56f5-fdc0-4012-8bc5-17bd57a0d3d7",
   "metadata": {
    "ExecuteTime": {
     "end_time": "2024-02-06T13:53:17.108574Z",
     "start_time": "2024-02-06T13:53:17.028832Z"
    }
   },
   "outputs": [
    {
     "name": "stderr",
     "output_type": "stream",
     "text": [
      "/var/folders/q1/n_mdnm595j14clzsrfqwdpv40000gp/T/ipykernel_11844/1475844750.py:36: FutureWarning:\n",
      "\n",
      "The default value of numeric_only in DataFrameGroupBy.sum is deprecated. In a future version, numeric_only will default to False. Either specify numeric_only or select only columns which should be valid for the function.\n",
      "\n"
     ]
    },
    {
     "data": {
      "application/vnd.plotly.v1+json": {
       "data": [
        {
         "link": {
          "color": [
           "rgba(0, 14, 205, 0.50)",
           "rgba(204, 0, 102, 0.50)",
           "rgba(220, 20, 60, 0.50)",
           "rgba(255, 215, 0, 0.50)",
           "rgba(0, 191, 255, 0.50)",
           "rgba(255, 215, 0, 0.50)",
           "rgba(255, 215, 0, 0.50)",
           "rgba(0, 191, 255, 0.50)",
           "rgba(0, 191, 255, 0.50)",
           "rgba(255, 215, 0, 0.50)",
           "rgba(220, 20, 60, 0.50)",
           "rgba(220, 20, 60, 0.50)",
           "rgba(0, 191, 255, 0.50)",
           "rgba(0, 191, 255, 0.50)",
           "rgba(0, 191, 255, 0.50)",
           "rgba(0, 191, 255, 0.50)",
           "rgba(0, 191, 255, 0.50)",
           "rgba(0, 191, 255, 0.50)",
           "rgba(0, 191, 255, 0.50)",
           "rgba(220, 20, 60, 0.50)",
           "rgba(255, 215, 0, 0.50)",
           "rgba(255, 215, 0, 0.50)",
           "rgba(255, 215, 0, 0.50)",
           "rgba(255, 215, 0, 0.50)",
           "rgba(255, 215, 0, 0.50)",
           "rgba(250, 128, 114, 0.50)",
           "rgba(204, 0, 102, 0.50)",
           "rgba(0, 255, 255, 0.50)",
           "rgba(139, 0, 139, 0.50)",
           "rgba(0, 191, 255, 0.50)",
           "rgba(255, 215, 0, 0.50)",
           "rgba(139, 0, 139, 0.50)",
           "rgba(139, 0, 139, 0.50)",
           "rgba(139, 0, 139, 0.50)",
           "rgba(205, 133, 63, 0.50)",
           "rgba(220, 20, 60, 0.50)",
           "rgba(220, 20, 60, 0.50)",
           "rgba(0, 191, 255, 0.50)",
           "rgba(220, 20, 60, 0.50)",
           "rgba(220, 20, 60, 0.50)",
           "rgba(0, 255, 255, 0.50)",
           "rgba(204, 0, 102, 0.50)",
           "rgba(0, 255, 255, 0.50)",
           "rgba(0, 255, 255, 0.50)",
           "rgba(0, 191, 255, 0.50)",
           "rgba(0, 255, 255, 0.50)",
           "rgba(39, 174, 52, 0.50)",
           "rgba(39, 174, 52, 0.50)",
           "rgba(250, 128, 114, 0.50)",
           "rgba(255, 215, 0, 0.50)",
           "rgba(255, 215, 0, 0.50)",
           "rgba(255, 215, 0, 0.50)",
           "rgba(220, 20, 60, 0.50)",
           "rgba(255, 215, 0, 0.50)",
           "rgba(0, 191, 255, 0.50)",
           "rgba(0, 191, 255, 0.50)",
           "rgba(205, 133, 63, 0.50)"
          ],
          "label": [
           0,
           31,
           17,
           13,
           11,
           33,
           37,
           36,
           11,
           26,
           16,
           17,
           6,
           29,
           44,
           43,
           12,
           9,
           38,
           10,
           28,
           7,
           5,
           4,
           42,
           45,
           32,
           38,
           8,
           11,
           13,
           30,
           46,
           47,
           50,
           15,
           15,
           11,
           15,
           15,
           38,
           32,
           18,
           18,
           11,
           39,
           49,
           48,
           14,
           34,
           37,
           35,
           27,
           3,
           11,
           11,
           2
          ],
          "source": [
           1,
           2,
           2,
           3,
           3,
           4,
           5,
           6,
           7,
           8,
           9,
           10,
           11,
           11,
           11,
           11,
           11,
           11,
           11,
           11,
           13,
           13,
           13,
           13,
           13,
           14,
           15,
           15,
           19,
           20,
           21,
           22,
           23,
           24,
           25,
           26,
           27,
           28,
           28,
           29,
           30,
           31,
           32,
           38,
           39,
           40,
           41,
           41,
           42,
           43,
           44,
           45,
           46,
           47,
           48,
           49,
           50
          ],
          "target": [
           0,
           31,
           17,
           13,
           11,
           33,
           37,
           36,
           11,
           26,
           16,
           17,
           6,
           29,
           44,
           43,
           12,
           9,
           38,
           10,
           28,
           7,
           5,
           4,
           42,
           45,
           32,
           38,
           8,
           11,
           13,
           30,
           46,
           47,
           50,
           15,
           15,
           11,
           15,
           15,
           38,
           32,
           18,
           18,
           11,
           39,
           49,
           48,
           14,
           34,
           37,
           35,
           27,
           3,
           11,
           11,
           2
          ],
          "value": [
           10562.323200000004,
           14923.49376216041,
           5295.452526565,
           16454.699998979802,
           1556.0000039491274,
           27829.858774175984,
           13488.734783607497,
           10112.290794541655,
           53605.38535566842,
           33354.99944000005,
           73256.40185039924,
           39604.69289475068,
           10112.290794541655,
           5567.710275031315,
           1342.7621096179068,
           1424.4530927987005,
           2301.6412003704454,
           23076.436585927084,
           680.4947837961506,
           9357.816164261825,
           28903.635291550418,
           83061.92751187581,
           13488.734783607497,
           3092.9906336427543,
           21251.17699342093,
           15573.191406581362,
           3543.7039926701136,
           553.1076581564375,
           33354.99943999996,
           5374.660126545798,
           134051.26906530018,
           58392.59808964225,
           17800.0,
           38899.99999999999,
           23400.000000000015,
           27351.373054530588,
           14596.145961459628,
           12717.386796250044,
           13295.752008625243,
           5567.710275031315,
           58392.59808964222,
           13328.142862160435,
           16871.84685483055,
           59626.200531594804,
           54708.10810628299,
           54708.10810628299,
           19665.853659229215,
           20174.813978301238,
           15573.191406581365,
           1424.4530927987005,
           1342.7621096179068,
           15573.191406581362,
           17800.000000000015,
           38899.99999999998,
           20174.813978301238,
           19665.853659229215,
           23399.999999999996
          ]
         },
         "node": {
          "color": "cornflowerblue",
          "label": [
           "AMMONIA",
           "AMMONIA_RE",
           "BIOMASS_TO_METHANOL",
           "BIO_HYDROLYSIS",
           "BOAT_FREIGHT_NG",
           "BUS_COACH_CNG_STOICH",
           "CAR_BEV",
           "CCGT",
           "COAL",
           "DEC_HP_ELEC",
           "DHN_HP_ELEC",
           "ELECTRICITY",
           "ELEC_EXPORT",
           "GAS",
           "H2",
           "HEAT_HIGH_T",
           "HEAT_LOW_T_DECEN",
           "HEAT_LOW_T_DHN",
           "HVC",
           "IMP_COAL",
           "IMP_ELECTRICITY",
           "IMP_GAS",
           "IMP_LFO",
           "IMP_WASTE",
           "IMP_WET_BIOMASS",
           "IMP_WOOD",
           "IND_BOILER_COAL",
           "IND_BOILER_WASTE",
           "IND_COGEN_GAS",
           "IND_DIRECT_ELEC",
           "LFO",
           "METHANOL",
           "METHANOL_TO_HVC",
           "MOB_FREIGHT_BOAT",
           "MOB_FREIGHT_RAIL",
           "MOB_FREIGHT_ROAD",
           "MOB_PRIVATE",
           "MOB_PUBLIC",
           "OIL_TO_HVC",
           "PV",
           "RES_SOLAR",
           "RES_WIND",
           "SMR",
           "TRAIN_FREIGHT",
           "TRAMWAY_TROLLEY",
           "TRUCK_FUEL_CELL",
           "WASTE",
           "WET_BIOMASS",
           "WIND_OFFSHORE",
           "WIND_ONSHORE",
           "WOOD"
          ],
          "line": {
           "color": "black",
           "width": 0.5
          },
          "pad": 15,
          "thickness": 15
         },
         "valueformat": ".0f",
         "valuesuffix": "",
         "type": "sankey"
        }
       ],
       "layout": {
        "template": {
         "data": {
          "histogram2dcontour": [
           {
            "type": "histogram2dcontour",
            "colorbar": {
             "outlinewidth": 0,
             "ticks": ""
            },
            "colorscale": [
             [
              0.0,
              "#0d0887"
             ],
             [
              0.1111111111111111,
              "#46039f"
             ],
             [
              0.2222222222222222,
              "#7201a8"
             ],
             [
              0.3333333333333333,
              "#9c179e"
             ],
             [
              0.4444444444444444,
              "#bd3786"
             ],
             [
              0.5555555555555556,
              "#d8576b"
             ],
             [
              0.6666666666666666,
              "#ed7953"
             ],
             [
              0.7777777777777778,
              "#fb9f3a"
             ],
             [
              0.8888888888888888,
              "#fdca26"
             ],
             [
              1.0,
              "#f0f921"
             ]
            ]
           }
          ],
          "choropleth": [
           {
            "type": "choropleth",
            "colorbar": {
             "outlinewidth": 0,
             "ticks": ""
            }
           }
          ],
          "histogram2d": [
           {
            "type": "histogram2d",
            "colorbar": {
             "outlinewidth": 0,
             "ticks": ""
            },
            "colorscale": [
             [
              0.0,
              "#0d0887"
             ],
             [
              0.1111111111111111,
              "#46039f"
             ],
             [
              0.2222222222222222,
              "#7201a8"
             ],
             [
              0.3333333333333333,
              "#9c179e"
             ],
             [
              0.4444444444444444,
              "#bd3786"
             ],
             [
              0.5555555555555556,
              "#d8576b"
             ],
             [
              0.6666666666666666,
              "#ed7953"
             ],
             [
              0.7777777777777778,
              "#fb9f3a"
             ],
             [
              0.8888888888888888,
              "#fdca26"
             ],
             [
              1.0,
              "#f0f921"
             ]
            ]
           }
          ],
          "heatmap": [
           {
            "type": "heatmap",
            "colorbar": {
             "outlinewidth": 0,
             "ticks": ""
            },
            "colorscale": [
             [
              0.0,
              "#0d0887"
             ],
             [
              0.1111111111111111,
              "#46039f"
             ],
             [
              0.2222222222222222,
              "#7201a8"
             ],
             [
              0.3333333333333333,
              "#9c179e"
             ],
             [
              0.4444444444444444,
              "#bd3786"
             ],
             [
              0.5555555555555556,
              "#d8576b"
             ],
             [
              0.6666666666666666,
              "#ed7953"
             ],
             [
              0.7777777777777778,
              "#fb9f3a"
             ],
             [
              0.8888888888888888,
              "#fdca26"
             ],
             [
              1.0,
              "#f0f921"
             ]
            ]
           }
          ],
          "heatmapgl": [
           {
            "type": "heatmapgl",
            "colorbar": {
             "outlinewidth": 0,
             "ticks": ""
            },
            "colorscale": [
             [
              0.0,
              "#0d0887"
             ],
             [
              0.1111111111111111,
              "#46039f"
             ],
             [
              0.2222222222222222,
              "#7201a8"
             ],
             [
              0.3333333333333333,
              "#9c179e"
             ],
             [
              0.4444444444444444,
              "#bd3786"
             ],
             [
              0.5555555555555556,
              "#d8576b"
             ],
             [
              0.6666666666666666,
              "#ed7953"
             ],
             [
              0.7777777777777778,
              "#fb9f3a"
             ],
             [
              0.8888888888888888,
              "#fdca26"
             ],
             [
              1.0,
              "#f0f921"
             ]
            ]
           }
          ],
          "contourcarpet": [
           {
            "type": "contourcarpet",
            "colorbar": {
             "outlinewidth": 0,
             "ticks": ""
            }
           }
          ],
          "contour": [
           {
            "type": "contour",
            "colorbar": {
             "outlinewidth": 0,
             "ticks": ""
            },
            "colorscale": [
             [
              0.0,
              "#0d0887"
             ],
             [
              0.1111111111111111,
              "#46039f"
             ],
             [
              0.2222222222222222,
              "#7201a8"
             ],
             [
              0.3333333333333333,
              "#9c179e"
             ],
             [
              0.4444444444444444,
              "#bd3786"
             ],
             [
              0.5555555555555556,
              "#d8576b"
             ],
             [
              0.6666666666666666,
              "#ed7953"
             ],
             [
              0.7777777777777778,
              "#fb9f3a"
             ],
             [
              0.8888888888888888,
              "#fdca26"
             ],
             [
              1.0,
              "#f0f921"
             ]
            ]
           }
          ],
          "surface": [
           {
            "type": "surface",
            "colorbar": {
             "outlinewidth": 0,
             "ticks": ""
            },
            "colorscale": [
             [
              0.0,
              "#0d0887"
             ],
             [
              0.1111111111111111,
              "#46039f"
             ],
             [
              0.2222222222222222,
              "#7201a8"
             ],
             [
              0.3333333333333333,
              "#9c179e"
             ],
             [
              0.4444444444444444,
              "#bd3786"
             ],
             [
              0.5555555555555556,
              "#d8576b"
             ],
             [
              0.6666666666666666,
              "#ed7953"
             ],
             [
              0.7777777777777778,
              "#fb9f3a"
             ],
             [
              0.8888888888888888,
              "#fdca26"
             ],
             [
              1.0,
              "#f0f921"
             ]
            ]
           }
          ],
          "mesh3d": [
           {
            "type": "mesh3d",
            "colorbar": {
             "outlinewidth": 0,
             "ticks": ""
            }
           }
          ],
          "scatter": [
           {
            "marker": {
             "line": {
              "color": "#283442"
             }
            },
            "type": "scatter"
           }
          ],
          "parcoords": [
           {
            "type": "parcoords",
            "line": {
             "colorbar": {
              "outlinewidth": 0,
              "ticks": ""
             }
            }
           }
          ],
          "scatterpolargl": [
           {
            "type": "scatterpolargl",
            "marker": {
             "colorbar": {
              "outlinewidth": 0,
              "ticks": ""
             }
            }
           }
          ],
          "bar": [
           {
            "error_x": {
             "color": "#f2f5fa"
            },
            "error_y": {
             "color": "#f2f5fa"
            },
            "marker": {
             "line": {
              "color": "rgb(17,17,17)",
              "width": 0.5
             },
             "pattern": {
              "fillmode": "overlay",
              "size": 10,
              "solidity": 0.2
             }
            },
            "type": "bar"
           }
          ],
          "scattergeo": [
           {
            "type": "scattergeo",
            "marker": {
             "colorbar": {
              "outlinewidth": 0,
              "ticks": ""
             }
            }
           }
          ],
          "scatterpolar": [
           {
            "type": "scatterpolar",
            "marker": {
             "colorbar": {
              "outlinewidth": 0,
              "ticks": ""
             }
            }
           }
          ],
          "histogram": [
           {
            "marker": {
             "pattern": {
              "fillmode": "overlay",
              "size": 10,
              "solidity": 0.2
             }
            },
            "type": "histogram"
           }
          ],
          "scattergl": [
           {
            "marker": {
             "line": {
              "color": "#283442"
             }
            },
            "type": "scattergl"
           }
          ],
          "scatter3d": [
           {
            "type": "scatter3d",
            "line": {
             "colorbar": {
              "outlinewidth": 0,
              "ticks": ""
             }
            },
            "marker": {
             "colorbar": {
              "outlinewidth": 0,
              "ticks": ""
             }
            }
           }
          ],
          "scattermapbox": [
           {
            "type": "scattermapbox",
            "marker": {
             "colorbar": {
              "outlinewidth": 0,
              "ticks": ""
             }
            }
           }
          ],
          "scatterternary": [
           {
            "type": "scatterternary",
            "marker": {
             "colorbar": {
              "outlinewidth": 0,
              "ticks": ""
             }
            }
           }
          ],
          "scattercarpet": [
           {
            "type": "scattercarpet",
            "marker": {
             "colorbar": {
              "outlinewidth": 0,
              "ticks": ""
             }
            }
           }
          ],
          "carpet": [
           {
            "aaxis": {
             "endlinecolor": "#A2B1C6",
             "gridcolor": "#506784",
             "linecolor": "#506784",
             "minorgridcolor": "#506784",
             "startlinecolor": "#A2B1C6"
            },
            "baxis": {
             "endlinecolor": "#A2B1C6",
             "gridcolor": "#506784",
             "linecolor": "#506784",
             "minorgridcolor": "#506784",
             "startlinecolor": "#A2B1C6"
            },
            "type": "carpet"
           }
          ],
          "table": [
           {
            "cells": {
             "fill": {
              "color": "#506784"
             },
             "line": {
              "color": "rgb(17,17,17)"
             }
            },
            "header": {
             "fill": {
              "color": "#2a3f5f"
             },
             "line": {
              "color": "rgb(17,17,17)"
             }
            },
            "type": "table"
           }
          ],
          "barpolar": [
           {
            "marker": {
             "line": {
              "color": "rgb(17,17,17)",
              "width": 0.5
             },
             "pattern": {
              "fillmode": "overlay",
              "size": 10,
              "solidity": 0.2
             }
            },
            "type": "barpolar"
           }
          ],
          "pie": [
           {
            "automargin": true,
            "type": "pie"
           }
          ]
         },
         "layout": {
          "autotypenumbers": "strict",
          "colorway": [
           "#636efa",
           "#EF553B",
           "#00cc96",
           "#ab63fa",
           "#FFA15A",
           "#19d3f3",
           "#FF6692",
           "#B6E880",
           "#FF97FF",
           "#FECB52"
          ],
          "font": {
           "color": "#f2f5fa"
          },
          "hovermode": "closest",
          "hoverlabel": {
           "align": "left"
          },
          "paper_bgcolor": "rgb(17,17,17)",
          "plot_bgcolor": "rgb(17,17,17)",
          "polar": {
           "bgcolor": "rgb(17,17,17)",
           "angularaxis": {
            "gridcolor": "#506784",
            "linecolor": "#506784",
            "ticks": ""
           },
           "radialaxis": {
            "gridcolor": "#506784",
            "linecolor": "#506784",
            "ticks": ""
           }
          },
          "ternary": {
           "bgcolor": "rgb(17,17,17)",
           "aaxis": {
            "gridcolor": "#506784",
            "linecolor": "#506784",
            "ticks": ""
           },
           "baxis": {
            "gridcolor": "#506784",
            "linecolor": "#506784",
            "ticks": ""
           },
           "caxis": {
            "gridcolor": "#506784",
            "linecolor": "#506784",
            "ticks": ""
           }
          },
          "coloraxis": {
           "colorbar": {
            "outlinewidth": 0,
            "ticks": ""
           }
          },
          "colorscale": {
           "sequential": [
            [
             0.0,
             "#0d0887"
            ],
            [
             0.1111111111111111,
             "#46039f"
            ],
            [
             0.2222222222222222,
             "#7201a8"
            ],
            [
             0.3333333333333333,
             "#9c179e"
            ],
            [
             0.4444444444444444,
             "#bd3786"
            ],
            [
             0.5555555555555556,
             "#d8576b"
            ],
            [
             0.6666666666666666,
             "#ed7953"
            ],
            [
             0.7777777777777778,
             "#fb9f3a"
            ],
            [
             0.8888888888888888,
             "#fdca26"
            ],
            [
             1.0,
             "#f0f921"
            ]
           ],
           "sequentialminus": [
            [
             0.0,
             "#0d0887"
            ],
            [
             0.1111111111111111,
             "#46039f"
            ],
            [
             0.2222222222222222,
             "#7201a8"
            ],
            [
             0.3333333333333333,
             "#9c179e"
            ],
            [
             0.4444444444444444,
             "#bd3786"
            ],
            [
             0.5555555555555556,
             "#d8576b"
            ],
            [
             0.6666666666666666,
             "#ed7953"
            ],
            [
             0.7777777777777778,
             "#fb9f3a"
            ],
            [
             0.8888888888888888,
             "#fdca26"
            ],
            [
             1.0,
             "#f0f921"
            ]
           ],
           "diverging": [
            [
             0,
             "#8e0152"
            ],
            [
             0.1,
             "#c51b7d"
            ],
            [
             0.2,
             "#de77ae"
            ],
            [
             0.3,
             "#f1b6da"
            ],
            [
             0.4,
             "#fde0ef"
            ],
            [
             0.5,
             "#f7f7f7"
            ],
            [
             0.6,
             "#e6f5d0"
            ],
            [
             0.7,
             "#b8e186"
            ],
            [
             0.8,
             "#7fbc41"
            ],
            [
             0.9,
             "#4d9221"
            ],
            [
             1,
             "#276419"
            ]
           ]
          },
          "xaxis": {
           "gridcolor": "#283442",
           "linecolor": "#506784",
           "ticks": "",
           "title": {
            "standoff": 15
           },
           "zerolinecolor": "#283442",
           "automargin": true,
           "zerolinewidth": 2
          },
          "yaxis": {
           "gridcolor": "#283442",
           "linecolor": "#506784",
           "ticks": "",
           "title": {
            "standoff": 15
           },
           "zerolinecolor": "#283442",
           "automargin": true,
           "zerolinewidth": 2
          },
          "scene": {
           "xaxis": {
            "backgroundcolor": "rgb(17,17,17)",
            "gridcolor": "#506784",
            "linecolor": "#506784",
            "showbackground": true,
            "ticks": "",
            "zerolinecolor": "#C8D4E3",
            "gridwidth": 2
           },
           "yaxis": {
            "backgroundcolor": "rgb(17,17,17)",
            "gridcolor": "#506784",
            "linecolor": "#506784",
            "showbackground": true,
            "ticks": "",
            "zerolinecolor": "#C8D4E3",
            "gridwidth": 2
           },
           "zaxis": {
            "backgroundcolor": "rgb(17,17,17)",
            "gridcolor": "#506784",
            "linecolor": "#506784",
            "showbackground": true,
            "ticks": "",
            "zerolinecolor": "#C8D4E3",
            "gridwidth": 2
           }
          },
          "shapedefaults": {
           "line": {
            "color": "#f2f5fa"
           }
          },
          "annotationdefaults": {
           "arrowcolor": "#f2f5fa",
           "arrowhead": 0,
           "arrowwidth": 1
          },
          "geo": {
           "bgcolor": "rgb(17,17,17)",
           "landcolor": "rgb(17,17,17)",
           "subunitcolor": "#506784",
           "showland": true,
           "showlakes": true,
           "lakecolor": "rgb(17,17,17)"
          },
          "title": {
           "x": 0.05
          },
          "updatemenudefaults": {
           "bgcolor": "#506784",
           "borderwidth": 0
          },
          "sliderdefaults": {
           "bgcolor": "#C8D4E3",
           "borderwidth": 1,
           "bordercolor": "rgb(17,17,17)",
           "tickwidth": 0
          },
          "mapbox": {
           "style": "dark"
          }
         }
        },
        "title": {
         "text": "Sankey"
        },
        "font": {
         "size": 10,
         "color": "black"
        },
        "paper_bgcolor": "white"
       },
       "config": {
        "plotlyServerURL": "https://plot.ly"
       }
      },
      "text/html": "<div>                            <div id=\"828bec9c-84a9-497c-8167-10025997d884\" class=\"plotly-graph-div\" style=\"height:525px; width:100%;\"></div>            <script type=\"text/javascript\">                require([\"plotly\"], function(Plotly) {                    window.PLOTLYENV=window.PLOTLYENV || {};                                    if (document.getElementById(\"828bec9c-84a9-497c-8167-10025997d884\")) {                    Plotly.newPlot(                        \"828bec9c-84a9-497c-8167-10025997d884\",                        [{\"link\":{\"color\":[\"rgba(0, 14, 205, 0.50)\",\"rgba(204, 0, 102, 0.50)\",\"rgba(220, 20, 60, 0.50)\",\"rgba(255, 215, 0, 0.50)\",\"rgba(0, 191, 255, 0.50)\",\"rgba(255, 215, 0, 0.50)\",\"rgba(255, 215, 0, 0.50)\",\"rgba(0, 191, 255, 0.50)\",\"rgba(0, 191, 255, 0.50)\",\"rgba(255, 215, 0, 0.50)\",\"rgba(220, 20, 60, 0.50)\",\"rgba(220, 20, 60, 0.50)\",\"rgba(0, 191, 255, 0.50)\",\"rgba(0, 191, 255, 0.50)\",\"rgba(0, 191, 255, 0.50)\",\"rgba(0, 191, 255, 0.50)\",\"rgba(0, 191, 255, 0.50)\",\"rgba(0, 191, 255, 0.50)\",\"rgba(0, 191, 255, 0.50)\",\"rgba(220, 20, 60, 0.50)\",\"rgba(255, 215, 0, 0.50)\",\"rgba(255, 215, 0, 0.50)\",\"rgba(255, 215, 0, 0.50)\",\"rgba(255, 215, 0, 0.50)\",\"rgba(255, 215, 0, 0.50)\",\"rgba(250, 128, 114, 0.50)\",\"rgba(204, 0, 102, 0.50)\",\"rgba(0, 255, 255, 0.50)\",\"rgba(139, 0, 139, 0.50)\",\"rgba(0, 191, 255, 0.50)\",\"rgba(255, 215, 0, 0.50)\",\"rgba(139, 0, 139, 0.50)\",\"rgba(139, 0, 139, 0.50)\",\"rgba(139, 0, 139, 0.50)\",\"rgba(205, 133, 63, 0.50)\",\"rgba(220, 20, 60, 0.50)\",\"rgba(220, 20, 60, 0.50)\",\"rgba(0, 191, 255, 0.50)\",\"rgba(220, 20, 60, 0.50)\",\"rgba(220, 20, 60, 0.50)\",\"rgba(0, 255, 255, 0.50)\",\"rgba(204, 0, 102, 0.50)\",\"rgba(0, 255, 255, 0.50)\",\"rgba(0, 255, 255, 0.50)\",\"rgba(0, 191, 255, 0.50)\",\"rgba(0, 255, 255, 0.50)\",\"rgba(39, 174, 52, 0.50)\",\"rgba(39, 174, 52, 0.50)\",\"rgba(250, 128, 114, 0.50)\",\"rgba(255, 215, 0, 0.50)\",\"rgba(255, 215, 0, 0.50)\",\"rgba(255, 215, 0, 0.50)\",\"rgba(220, 20, 60, 0.50)\",\"rgba(255, 215, 0, 0.50)\",\"rgba(0, 191, 255, 0.50)\",\"rgba(0, 191, 255, 0.50)\",\"rgba(205, 133, 63, 0.50)\"],\"label\":[0,31,17,13,11,33,37,36,11,26,16,17,6,29,44,43,12,9,38,10,28,7,5,4,42,45,32,38,8,11,13,30,46,47,50,15,15,11,15,15,38,32,18,18,11,39,49,48,14,34,37,35,27,3,11,11,2],\"source\":[1,2,2,3,3,4,5,6,7,8,9,10,11,11,11,11,11,11,11,11,13,13,13,13,13,14,15,15,19,20,21,22,23,24,25,26,27,28,28,29,30,31,32,38,39,40,41,41,42,43,44,45,46,47,48,49,50],\"target\":[0,31,17,13,11,33,37,36,11,26,16,17,6,29,44,43,12,9,38,10,28,7,5,4,42,45,32,38,8,11,13,30,46,47,50,15,15,11,15,15,38,32,18,18,11,39,49,48,14,34,37,35,27,3,11,11,2],\"value\":[10562.323200000004,14923.49376216041,5295.452526565,16454.699998979802,1556.0000039491274,27829.858774175984,13488.734783607497,10112.290794541655,53605.38535566842,33354.99944000005,73256.40185039924,39604.69289475068,10112.290794541655,5567.710275031315,1342.7621096179068,1424.4530927987005,2301.6412003704454,23076.436585927084,680.4947837961506,9357.816164261825,28903.635291550418,83061.92751187581,13488.734783607497,3092.9906336427543,21251.17699342093,15573.191406581362,3543.7039926701136,553.1076581564375,33354.99943999996,5374.660126545798,134051.26906530018,58392.59808964225,17800.0,38899.99999999999,23400.000000000015,27351.373054530588,14596.145961459628,12717.386796250044,13295.752008625243,5567.710275031315,58392.59808964222,13328.142862160435,16871.84685483055,59626.200531594804,54708.10810628299,54708.10810628299,19665.853659229215,20174.813978301238,15573.191406581365,1424.4530927987005,1342.7621096179068,15573.191406581362,17800.000000000015,38899.99999999998,20174.813978301238,19665.853659229215,23399.999999999996]},\"node\":{\"color\":\"cornflowerblue\",\"label\":[\"AMMONIA\",\"AMMONIA_RE\",\"BIOMASS_TO_METHANOL\",\"BIO_HYDROLYSIS\",\"BOAT_FREIGHT_NG\",\"BUS_COACH_CNG_STOICH\",\"CAR_BEV\",\"CCGT\",\"COAL\",\"DEC_HP_ELEC\",\"DHN_HP_ELEC\",\"ELECTRICITY\",\"ELEC_EXPORT\",\"GAS\",\"H2\",\"HEAT_HIGH_T\",\"HEAT_LOW_T_DECEN\",\"HEAT_LOW_T_DHN\",\"HVC\",\"IMP_COAL\",\"IMP_ELECTRICITY\",\"IMP_GAS\",\"IMP_LFO\",\"IMP_WASTE\",\"IMP_WET_BIOMASS\",\"IMP_WOOD\",\"IND_BOILER_COAL\",\"IND_BOILER_WASTE\",\"IND_COGEN_GAS\",\"IND_DIRECT_ELEC\",\"LFO\",\"METHANOL\",\"METHANOL_TO_HVC\",\"MOB_FREIGHT_BOAT\",\"MOB_FREIGHT_RAIL\",\"MOB_FREIGHT_ROAD\",\"MOB_PRIVATE\",\"MOB_PUBLIC\",\"OIL_TO_HVC\",\"PV\",\"RES_SOLAR\",\"RES_WIND\",\"SMR\",\"TRAIN_FREIGHT\",\"TRAMWAY_TROLLEY\",\"TRUCK_FUEL_CELL\",\"WASTE\",\"WET_BIOMASS\",\"WIND_OFFSHORE\",\"WIND_ONSHORE\",\"WOOD\"],\"line\":{\"color\":\"black\",\"width\":0.5},\"pad\":15,\"thickness\":15},\"valueformat\":\".0f\",\"valuesuffix\":\"\",\"type\":\"sankey\"}],                        {\"template\":{\"data\":{\"histogram2dcontour\":[{\"type\":\"histogram2dcontour\",\"colorbar\":{\"outlinewidth\":0,\"ticks\":\"\"},\"colorscale\":[[0.0,\"#0d0887\"],[0.1111111111111111,\"#46039f\"],[0.2222222222222222,\"#7201a8\"],[0.3333333333333333,\"#9c179e\"],[0.4444444444444444,\"#bd3786\"],[0.5555555555555556,\"#d8576b\"],[0.6666666666666666,\"#ed7953\"],[0.7777777777777778,\"#fb9f3a\"],[0.8888888888888888,\"#fdca26\"],[1.0,\"#f0f921\"]]}],\"choropleth\":[{\"type\":\"choropleth\",\"colorbar\":{\"outlinewidth\":0,\"ticks\":\"\"}}],\"histogram2d\":[{\"type\":\"histogram2d\",\"colorbar\":{\"outlinewidth\":0,\"ticks\":\"\"},\"colorscale\":[[0.0,\"#0d0887\"],[0.1111111111111111,\"#46039f\"],[0.2222222222222222,\"#7201a8\"],[0.3333333333333333,\"#9c179e\"],[0.4444444444444444,\"#bd3786\"],[0.5555555555555556,\"#d8576b\"],[0.6666666666666666,\"#ed7953\"],[0.7777777777777778,\"#fb9f3a\"],[0.8888888888888888,\"#fdca26\"],[1.0,\"#f0f921\"]]}],\"heatmap\":[{\"type\":\"heatmap\",\"colorbar\":{\"outlinewidth\":0,\"ticks\":\"\"},\"colorscale\":[[0.0,\"#0d0887\"],[0.1111111111111111,\"#46039f\"],[0.2222222222222222,\"#7201a8\"],[0.3333333333333333,\"#9c179e\"],[0.4444444444444444,\"#bd3786\"],[0.5555555555555556,\"#d8576b\"],[0.6666666666666666,\"#ed7953\"],[0.7777777777777778,\"#fb9f3a\"],[0.8888888888888888,\"#fdca26\"],[1.0,\"#f0f921\"]]}],\"heatmapgl\":[{\"type\":\"heatmapgl\",\"colorbar\":{\"outlinewidth\":0,\"ticks\":\"\"},\"colorscale\":[[0.0,\"#0d0887\"],[0.1111111111111111,\"#46039f\"],[0.2222222222222222,\"#7201a8\"],[0.3333333333333333,\"#9c179e\"],[0.4444444444444444,\"#bd3786\"],[0.5555555555555556,\"#d8576b\"],[0.6666666666666666,\"#ed7953\"],[0.7777777777777778,\"#fb9f3a\"],[0.8888888888888888,\"#fdca26\"],[1.0,\"#f0f921\"]]}],\"contourcarpet\":[{\"type\":\"contourcarpet\",\"colorbar\":{\"outlinewidth\":0,\"ticks\":\"\"}}],\"contour\":[{\"type\":\"contour\",\"colorbar\":{\"outlinewidth\":0,\"ticks\":\"\"},\"colorscale\":[[0.0,\"#0d0887\"],[0.1111111111111111,\"#46039f\"],[0.2222222222222222,\"#7201a8\"],[0.3333333333333333,\"#9c179e\"],[0.4444444444444444,\"#bd3786\"],[0.5555555555555556,\"#d8576b\"],[0.6666666666666666,\"#ed7953\"],[0.7777777777777778,\"#fb9f3a\"],[0.8888888888888888,\"#fdca26\"],[1.0,\"#f0f921\"]]}],\"surface\":[{\"type\":\"surface\",\"colorbar\":{\"outlinewidth\":0,\"ticks\":\"\"},\"colorscale\":[[0.0,\"#0d0887\"],[0.1111111111111111,\"#46039f\"],[0.2222222222222222,\"#7201a8\"],[0.3333333333333333,\"#9c179e\"],[0.4444444444444444,\"#bd3786\"],[0.5555555555555556,\"#d8576b\"],[0.6666666666666666,\"#ed7953\"],[0.7777777777777778,\"#fb9f3a\"],[0.8888888888888888,\"#fdca26\"],[1.0,\"#f0f921\"]]}],\"mesh3d\":[{\"type\":\"mesh3d\",\"colorbar\":{\"outlinewidth\":0,\"ticks\":\"\"}}],\"scatter\":[{\"marker\":{\"line\":{\"color\":\"#283442\"}},\"type\":\"scatter\"}],\"parcoords\":[{\"type\":\"parcoords\",\"line\":{\"colorbar\":{\"outlinewidth\":0,\"ticks\":\"\"}}}],\"scatterpolargl\":[{\"type\":\"scatterpolargl\",\"marker\":{\"colorbar\":{\"outlinewidth\":0,\"ticks\":\"\"}}}],\"bar\":[{\"error_x\":{\"color\":\"#f2f5fa\"},\"error_y\":{\"color\":\"#f2f5fa\"},\"marker\":{\"line\":{\"color\":\"rgb(17,17,17)\",\"width\":0.5},\"pattern\":{\"fillmode\":\"overlay\",\"size\":10,\"solidity\":0.2}},\"type\":\"bar\"}],\"scattergeo\":[{\"type\":\"scattergeo\",\"marker\":{\"colorbar\":{\"outlinewidth\":0,\"ticks\":\"\"}}}],\"scatterpolar\":[{\"type\":\"scatterpolar\",\"marker\":{\"colorbar\":{\"outlinewidth\":0,\"ticks\":\"\"}}}],\"histogram\":[{\"marker\":{\"pattern\":{\"fillmode\":\"overlay\",\"size\":10,\"solidity\":0.2}},\"type\":\"histogram\"}],\"scattergl\":[{\"marker\":{\"line\":{\"color\":\"#283442\"}},\"type\":\"scattergl\"}],\"scatter3d\":[{\"type\":\"scatter3d\",\"line\":{\"colorbar\":{\"outlinewidth\":0,\"ticks\":\"\"}},\"marker\":{\"colorbar\":{\"outlinewidth\":0,\"ticks\":\"\"}}}],\"scattermapbox\":[{\"type\":\"scattermapbox\",\"marker\":{\"colorbar\":{\"outlinewidth\":0,\"ticks\":\"\"}}}],\"scatterternary\":[{\"type\":\"scatterternary\",\"marker\":{\"colorbar\":{\"outlinewidth\":0,\"ticks\":\"\"}}}],\"scattercarpet\":[{\"type\":\"scattercarpet\",\"marker\":{\"colorbar\":{\"outlinewidth\":0,\"ticks\":\"\"}}}],\"carpet\":[{\"aaxis\":{\"endlinecolor\":\"#A2B1C6\",\"gridcolor\":\"#506784\",\"linecolor\":\"#506784\",\"minorgridcolor\":\"#506784\",\"startlinecolor\":\"#A2B1C6\"},\"baxis\":{\"endlinecolor\":\"#A2B1C6\",\"gridcolor\":\"#506784\",\"linecolor\":\"#506784\",\"minorgridcolor\":\"#506784\",\"startlinecolor\":\"#A2B1C6\"},\"type\":\"carpet\"}],\"table\":[{\"cells\":{\"fill\":{\"color\":\"#506784\"},\"line\":{\"color\":\"rgb(17,17,17)\"}},\"header\":{\"fill\":{\"color\":\"#2a3f5f\"},\"line\":{\"color\":\"rgb(17,17,17)\"}},\"type\":\"table\"}],\"barpolar\":[{\"marker\":{\"line\":{\"color\":\"rgb(17,17,17)\",\"width\":0.5},\"pattern\":{\"fillmode\":\"overlay\",\"size\":10,\"solidity\":0.2}},\"type\":\"barpolar\"}],\"pie\":[{\"automargin\":true,\"type\":\"pie\"}]},\"layout\":{\"autotypenumbers\":\"strict\",\"colorway\":[\"#636efa\",\"#EF553B\",\"#00cc96\",\"#ab63fa\",\"#FFA15A\",\"#19d3f3\",\"#FF6692\",\"#B6E880\",\"#FF97FF\",\"#FECB52\"],\"font\":{\"color\":\"#f2f5fa\"},\"hovermode\":\"closest\",\"hoverlabel\":{\"align\":\"left\"},\"paper_bgcolor\":\"rgb(17,17,17)\",\"plot_bgcolor\":\"rgb(17,17,17)\",\"polar\":{\"bgcolor\":\"rgb(17,17,17)\",\"angularaxis\":{\"gridcolor\":\"#506784\",\"linecolor\":\"#506784\",\"ticks\":\"\"},\"radialaxis\":{\"gridcolor\":\"#506784\",\"linecolor\":\"#506784\",\"ticks\":\"\"}},\"ternary\":{\"bgcolor\":\"rgb(17,17,17)\",\"aaxis\":{\"gridcolor\":\"#506784\",\"linecolor\":\"#506784\",\"ticks\":\"\"},\"baxis\":{\"gridcolor\":\"#506784\",\"linecolor\":\"#506784\",\"ticks\":\"\"},\"caxis\":{\"gridcolor\":\"#506784\",\"linecolor\":\"#506784\",\"ticks\":\"\"}},\"coloraxis\":{\"colorbar\":{\"outlinewidth\":0,\"ticks\":\"\"}},\"colorscale\":{\"sequential\":[[0.0,\"#0d0887\"],[0.1111111111111111,\"#46039f\"],[0.2222222222222222,\"#7201a8\"],[0.3333333333333333,\"#9c179e\"],[0.4444444444444444,\"#bd3786\"],[0.5555555555555556,\"#d8576b\"],[0.6666666666666666,\"#ed7953\"],[0.7777777777777778,\"#fb9f3a\"],[0.8888888888888888,\"#fdca26\"],[1.0,\"#f0f921\"]],\"sequentialminus\":[[0.0,\"#0d0887\"],[0.1111111111111111,\"#46039f\"],[0.2222222222222222,\"#7201a8\"],[0.3333333333333333,\"#9c179e\"],[0.4444444444444444,\"#bd3786\"],[0.5555555555555556,\"#d8576b\"],[0.6666666666666666,\"#ed7953\"],[0.7777777777777778,\"#fb9f3a\"],[0.8888888888888888,\"#fdca26\"],[1.0,\"#f0f921\"]],\"diverging\":[[0,\"#8e0152\"],[0.1,\"#c51b7d\"],[0.2,\"#de77ae\"],[0.3,\"#f1b6da\"],[0.4,\"#fde0ef\"],[0.5,\"#f7f7f7\"],[0.6,\"#e6f5d0\"],[0.7,\"#b8e186\"],[0.8,\"#7fbc41\"],[0.9,\"#4d9221\"],[1,\"#276419\"]]},\"xaxis\":{\"gridcolor\":\"#283442\",\"linecolor\":\"#506784\",\"ticks\":\"\",\"title\":{\"standoff\":15},\"zerolinecolor\":\"#283442\",\"automargin\":true,\"zerolinewidth\":2},\"yaxis\":{\"gridcolor\":\"#283442\",\"linecolor\":\"#506784\",\"ticks\":\"\",\"title\":{\"standoff\":15},\"zerolinecolor\":\"#283442\",\"automargin\":true,\"zerolinewidth\":2},\"scene\":{\"xaxis\":{\"backgroundcolor\":\"rgb(17,17,17)\",\"gridcolor\":\"#506784\",\"linecolor\":\"#506784\",\"showbackground\":true,\"ticks\":\"\",\"zerolinecolor\":\"#C8D4E3\",\"gridwidth\":2},\"yaxis\":{\"backgroundcolor\":\"rgb(17,17,17)\",\"gridcolor\":\"#506784\",\"linecolor\":\"#506784\",\"showbackground\":true,\"ticks\":\"\",\"zerolinecolor\":\"#C8D4E3\",\"gridwidth\":2},\"zaxis\":{\"backgroundcolor\":\"rgb(17,17,17)\",\"gridcolor\":\"#506784\",\"linecolor\":\"#506784\",\"showbackground\":true,\"ticks\":\"\",\"zerolinecolor\":\"#C8D4E3\",\"gridwidth\":2}},\"shapedefaults\":{\"line\":{\"color\":\"#f2f5fa\"}},\"annotationdefaults\":{\"arrowcolor\":\"#f2f5fa\",\"arrowhead\":0,\"arrowwidth\":1},\"geo\":{\"bgcolor\":\"rgb(17,17,17)\",\"landcolor\":\"rgb(17,17,17)\",\"subunitcolor\":\"#506784\",\"showland\":true,\"showlakes\":true,\"lakecolor\":\"rgb(17,17,17)\"},\"title\":{\"x\":0.05},\"updatemenudefaults\":{\"bgcolor\":\"#506784\",\"borderwidth\":0},\"sliderdefaults\":{\"bgcolor\":\"#C8D4E3\",\"borderwidth\":1,\"bordercolor\":\"rgb(17,17,17)\",\"tickwidth\":0},\"mapbox\":{\"style\":\"dark\"}}},\"title\":{\"text\":\"Sankey\"},\"font\":{\"size\":10,\"color\":\"black\"},\"paper_bgcolor\":\"white\"},                        {\"responsive\": true}                    ).then(function(){\n                            \nvar gd = document.getElementById('828bec9c-84a9-497c-8167-10025997d884');\nvar x = new MutationObserver(function (mutations, observer) {{\n        var display = window.getComputedStyle(gd).display;\n        if (!display || display === 'none') {{\n            console.log([gd, 'removed!']);\n            Plotly.purge(gd);\n            observer.disconnect();\n        }}\n}});\n\n// Listen for the removal of the full notebook cells\nvar notebookContainer = gd.closest('#notebook-container');\nif (notebookContainer) {{\n    x.observe(notebookContainer, {childList: true});\n}}\n\n// Listen for the clearing of the current output cell\nvar outputEl = gd.closest('.output');\nif (outputEl) {{\n    x.observe(outputEl, {childList: true});\n}}\n\n                        })                };                });            </script>        </div>"
     },
     "metadata": {},
     "output_type": "display_data"
    }
   ],
   "source": [
    "# TODO Storage technologies\n",
    "\n",
    "F_t = ampl.get_variable(\"F_t\").get_values().to_pandas(multi_index=True).reset_index().rename(columns={\"index0\":\"tech_name\", \"index1\":\"h\", \"index2\":\"td\", \"F_t.val\":\"value\"})\n",
    "lyrio = ampl.get_parameter(\"layers_in_out\").get_values().to_pandas().reset_index().rename(columns={\"index0\": \"tech_name\", \"index1\": \"flow_name\",\"layers_in_out\": \"value\"})\n",
    "HOUR_OF_PERIOD = pd.DataFrame(ampl.get_entity(\"T_H_TD\").get_values().to_list(), columns=['i','h','td']).set_index('i')\n",
    "MOB_list = sorted(['MOB_PRIVATE', 'MOB_AVIATION', 'MOB_PUBLIC', 'MOB_FREIGHT_RAIL', 'MOB_FREIGHT_ROAD'])\n",
    "list_storage = ampl.get_set(\"STORAGE_TECH\").get_values().to_pandas().index.values\n",
    "\n",
    "df_flow = F_t.groupby(['tech_name','td']).sum().drop(['h'],axis=1).join(HOUR_OF_PERIOD.groupby('td').count()/24,on ='td')  # Sum hourly profile for each TD + Merge occurence of TD per year\n",
    "df_flow = df_flow[df_flow['value']!=0]  # Cleaning\n",
    "df_flow['value'] = df_flow['value'] * df_flow['h'] # kW * h per td \n",
    "\n",
    "df_flow = df_flow.merge(lyrio.rename(columns={'value':'value_lyrio'}), on='tech_name') # Merge lyrio flow\n",
    "df_flow = df_flow[df_flow['value_lyrio']!=0]    # Cleaning\n",
    "df_flow['value'] = (df_flow['value_lyrio'] * df_flow['value']) # kW of demand and supply * h per td\n",
    "\n",
    "df_flow.drop(['h','value_lyrio'],axis=1,inplace=True)   # Cleaning\n",
    "\n",
    "df_flow.rename(columns={'tech_name':'target', 'flow_name':'source'}, inplace=True)  # Rename \n",
    "df_flow.loc[df_flow['value']>0,['target','source']] = df_flow.loc[df_flow['value']>0,['source','target']].to_numpy() # Transform negative flow as source\n",
    "df_flow['value'] = abs(df_flow['value'])    # Transform source flow to be positive\n",
    "\n",
    "df_flow = df_flow.groupby(['target','source']).sum().reset_index() # Aggregate to yearly value\n",
    "df_flow.loc [df_flow['target']==df_flow['source'],'source']= 'IMP_' + df_flow.loc [df_flow['target']==df_flow['source'],'source'].astype(str) # Transform name imported resources\n",
    "df_flow = df_flow[~df_flow.loc[:,'source'].str.startswith('IMP_RES').values]# Remove node with IMP_RES\n",
    "\n",
    "#Drop CO2 flow \n",
    "df_flow = df_flow[~df_flow['source'].str.contains(\"CO2_\")]\n",
    "df_flow = df_flow[~df_flow['target'].str.contains(\"CO2_\")]\n",
    "\n",
    "df_flow.sort_values('source',inplace=True)\n",
    "#Transform pkm & tkm into GWh\n",
    "df_flow.loc[df_flow[df_flow['target'].isin(MOB_list)].index,'value'] = df_flow.loc[df_flow['target'].isin(df_flow.loc[df_flow['target'].isin(MOB_list),'source']),:].sort_values('target')['value'].values\n",
    "#Transform kt into GWh\n",
    "df_flow.loc[df_flow['target']=='HVC','value'] = df_flow.loc[df_flow['target'].isin(df_flow.loc[df_flow['target']=='HVC','source']),:].groupby('target').sum().values\n",
    "\n",
    "df_flow = df_flow[df_flow['value']>500] # Remove small flows\n",
    "\n",
    "node = np.unique(np.concatenate((df_flow['source'].unique(),df_flow['target'].unique())))   # Get the list of nodes\n",
    "techno_color = pd.read_excel(os.getcwd()+'/ColorSankey.xlsx', index_col=False)\n",
    "df_flow = df_flow.merge(techno_color,on=('target','source'))\n",
    "df_sankey = df_flow.replace(node,range(len(node)))  # Rename techno into numbers\n",
    "\n",
    "opacity = 0.5\n",
    "\n",
    "fig = go.Figure(data=[go.Sankey(\n",
    "    valueformat = \".0f\",\n",
    "    valuesuffix = \"\",#\"TWh\",\n",
    "    # Define nodes\n",
    "    node = dict(\n",
    "      pad = 15,\n",
    "      thickness = 15,\n",
    "      line = dict(color = \"black\", width = 0.5),\n",
    "      label =  node,\n",
    "      color = \"cornflowerblue\"\n",
    "    ),\n",
    "    # Add links\n",
    "    link = dict(\n",
    "      source =  df_sankey['source'],\n",
    "      target =  df_sankey['target'],\n",
    "      value =  df_sankey['value'],\n",
    "      label =  df_sankey['target'],\n",
    "      color =  df_sankey['color'].apply(lambda h: hexToRGB(h,opacity))\n",
    "))])\n",
    "\n",
    "fig.update_layout(title_text=\"Sankey\", font_size=10, font_color=\"black\", paper_bgcolor=\"white\")\n",
    "fig.write_html(os.getcwd()+\"/Sankey.html\")\n",
    "fig.show()"
   ]
  },
  {
   "cell_type": "code",
   "execution_count": 164,
   "outputs": [],
   "source": [],
   "metadata": {
    "collapsed": false,
    "ExecuteTime": {
     "end_time": "2024-02-06T13:52:21.849115Z",
     "start_time": "2024-02-06T13:52:21.847733Z"
    }
   },
   "id": "a2b109b6731a9341"
  }
 ],
 "metadata": {
  "kernelspec": {
   "display_name": "Python 3 (ipykernel)",
   "language": "python",
   "name": "python3"
  },
  "language_info": {
   "codemirror_mode": {
    "name": "ipython",
    "version": 3
   },
   "file_extension": ".py",
   "mimetype": "text/x-python",
   "name": "python",
   "nbconvert_exporter": "python",
   "pygments_lexer": "ipython3",
   "version": "3.11.5"
  }
 },
 "nbformat": 4,
 "nbformat_minor": 5
}
